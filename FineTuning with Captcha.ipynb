{
 "cells": [
  {
   "cell_type": "code",
   "execution_count": 1,
   "metadata": {
    "_cell_guid": "79c7e3d0-c299-4dcb-8224-4455121ee9b0",
    "_uuid": "d629ff2d2480ee46fbb7e2d37f6b5fab8052498a"
   },
   "outputs": [
    {
     "name": "stderr",
     "output_type": "stream",
     "text": [
      "Using TensorFlow backend.\n"
     ]
    }
   ],
   "source": [
    "# !pip install imutils\n",
    "import warnings\n",
    "warnings.filterwarnings(\"ignore\")\n",
    "\n",
    "from keras.applications import VGG16\n",
    "from keras.layers.core import Dense, Flatten, Dropout\n",
    "from sklearn.model_selection import GridSearchCV, train_test_split\n",
    "from keras.callbacks import BaseLogger, EarlyStopping, ModelCheckpoint, LearningRateScheduler\n",
    "from keras.optimizers import RMSprop, SGD\n",
    "import numpy as np\n",
    "import os\n",
    "import cv2\n",
    "\n",
    "from sklearn.metrics import classification_report\n",
    "from sklearn.preprocessing import LabelBinarizer\n",
    "from keras.preprocessing.image import ImageDataGenerator\n",
    "from keras.layers import Input\n",
    "from keras.models import Model\n",
    "\n",
    "import imutils\n",
    "from sklearn.utils import shuffle\n",
    "import matplotlib.pyplot as plt"
   ]
  },
  {
   "cell_type": "markdown",
   "metadata": {},
   "source": [
    "## constant variables"
   ]
  },
  {
   "cell_type": "code",
   "execution_count": 2,
   "metadata": {},
   "outputs": [],
   "source": [
    "DATA_DIR = \"output/\"\n",
    "HEIGHT = 224\n",
    "WIDTH = 224\n",
    "CHANNEL = 3\n",
    "BATCH_SIZE = 32\n",
    "TEST_DIR = \"datasets/yzm/\"\n",
    "\n",
    "class_names = [\"0\", \"1\", \"2\", \"3\", \"4\", \"5\", \"6\", \"7\", \"8\", \"9\",\n",
    "               \"A\", \"B\", \"C\", \"D\", \"E\", \"F\", \"G\", \"H\", \"I\", \"J\",\n",
    "               \"K\", \"L\", \"M\", \"N\", \"O\", \"P\", \"Q\", \"R\", \"S\", \"T\", \n",
    "               \"U\", \"V\", \"W\", \"X\", \"Y\", \"Z\"]"
   ]
  },
  {
   "cell_type": "markdown",
   "metadata": {},
   "source": [
    "## Model"
   ]
  },
  {
   "cell_type": "code",
   "execution_count": 3,
   "metadata": {},
   "outputs": [
    {
     "name": "stdout",
     "output_type": "stream",
     "text": [
      "WARNING:tensorflow:From /Users/apple/Documents/env/lib/python3.6/site-packages/keras/backend/tensorflow_backend.py:66: The name tf.get_default_graph is deprecated. Please use tf.compat.v1.get_default_graph instead.\n",
      "\n",
      "WARNING:tensorflow:From /Users/apple/Documents/env/lib/python3.6/site-packages/keras/backend/tensorflow_backend.py:541: The name tf.placeholder is deprecated. Please use tf.compat.v1.placeholder instead.\n",
      "\n",
      "WARNING:tensorflow:From /Users/apple/Documents/env/lib/python3.6/site-packages/keras/backend/tensorflow_backend.py:4432: The name tf.random_uniform is deprecated. Please use tf.random.uniform instead.\n",
      "\n",
      "WARNING:tensorflow:From /Users/apple/Documents/env/lib/python3.6/site-packages/keras/backend/tensorflow_backend.py:4267: The name tf.nn.max_pool is deprecated. Please use tf.nn.max_pool2d instead.\n",
      "\n",
      "WARNING:tensorflow:From /Users/apple/Documents/env/lib/python3.6/site-packages/keras/backend/tensorflow_backend.py:190: The name tf.get_default_session is deprecated. Please use tf.compat.v1.get_default_session instead.\n",
      "\n",
      "WARNING:tensorflow:From /Users/apple/Documents/env/lib/python3.6/site-packages/keras/backend/tensorflow_backend.py:197: The name tf.ConfigProto is deprecated. Please use tf.compat.v1.ConfigProto instead.\n",
      "\n"
     ]
    }
   ],
   "source": [
    "base_model = VGG16(weights=\"imagenet\", include_top=False, input_shape=(HEIGHT, WIDTH, CHANNEL))"
   ]
  },
  {
   "cell_type": "code",
   "execution_count": 4,
   "metadata": {},
   "outputs": [
    {
     "name": "stdout",
     "output_type": "stream",
     "text": [
      "[INFO] 0\tInputLayer\n",
      "[INFO] 1\tConv2D\n",
      "[INFO] 2\tConv2D\n",
      "[INFO] 3\tMaxPooling2D\n",
      "[INFO] 4\tConv2D\n",
      "[INFO] 5\tConv2D\n",
      "[INFO] 6\tMaxPooling2D\n",
      "[INFO] 7\tConv2D\n",
      "[INFO] 8\tConv2D\n",
      "[INFO] 9\tConv2D\n",
      "[INFO] 10\tMaxPooling2D\n",
      "[INFO] 11\tConv2D\n",
      "[INFO] 12\tConv2D\n",
      "[INFO] 13\tConv2D\n",
      "[INFO] 14\tMaxPooling2D\n",
      "[INFO] 15\tConv2D\n",
      "[INFO] 16\tConv2D\n",
      "[INFO] 17\tConv2D\n",
      "[INFO] 18\tMaxPooling2D\n"
     ]
    }
   ],
   "source": [
    "for i, layer in enumerate(base_model.layers):\n",
    "    print(\"[INFO] {}\\t{}\".format(i, layer.__class__.__name__))"
   ]
  },
  {
   "cell_type": "code",
   "execution_count": 5,
   "metadata": {},
   "outputs": [],
   "source": [
    "class FCHeadNet:\n",
    "    @staticmethod\n",
    "    def build(base_model, classes, D):\n",
    "        head_model = base_model.output\n",
    "        head_model = Flatten(name=\"Flatten\")(head_model)\n",
    "        head_model = Dense(D, activation=\"relu\")(head_model)\n",
    "        head_model = Dropout(0.5)(head_model)\n",
    "        \n",
    "        head_model = Dense(classes, activation=\"softmax\")(head_model)\n",
    "        return head_model"
   ]
  },
  {
   "cell_type": "code",
   "execution_count": 6,
   "metadata": {},
   "outputs": [],
   "source": [
    "aug = ImageDataGenerator(rotation_range=30, width_shift_range=0.1, height_shift_range=0.1, \n",
    "                         shear_range=0.2, zoom_range=0.2, horizontal_flip=True, fill_mode=\"nearest\")"
   ]
  },
  {
   "cell_type": "code",
   "execution_count": 7,
   "metadata": {},
   "outputs": [],
   "source": [
    "def load_image_paths(data_path):\n",
    "    image_paths = []\n",
    "    labels = []\n",
    "    \n",
    "    for cla in os.listdir(data_path):\n",
    "        if cla == \".DS_Store\": continue\n",
    "        cla_path = os.path.join(data_path, cla)\n",
    "        label = cla\n",
    "        \n",
    "        for img in os.listdir(cla_path):\n",
    "            if img == \".DS_Store\": continue\n",
    "            image_path = os.path.join(cla_path, img)\n",
    "            image_paths.append(image_path)\n",
    "            labels.append(label)\n",
    "    labels = np.array(labels)\n",
    "    image_paths = np.array(image_paths)\n",
    "    \n",
    "    return image_paths, labels"
   ]
  },
  {
   "cell_type": "code",
   "execution_count": 8,
   "metadata": {},
   "outputs": [],
   "source": [
    "image_paths, labels = load_image_paths(DATA_DIR)"
   ]
  },
  {
   "cell_type": "code",
   "execution_count": 9,
   "metadata": {},
   "outputs": [],
   "source": [
    "image_paths, labels = shuffle(image_paths, labels, random_state=42)"
   ]
  },
  {
   "cell_type": "code",
   "execution_count": 10,
   "metadata": {},
   "outputs": [],
   "source": [
    "(train_X_paths, test_X_paths, train_y, test_y) = train_test_split(image_paths, labels, test_size=0.25, random_state=42)"
   ]
  },
  {
   "cell_type": "code",
   "execution_count": 11,
   "metadata": {},
   "outputs": [],
   "source": [
    "le = LabelBinarizer().fit(class_names)"
   ]
  },
  {
   "cell_type": "code",
   "execution_count": 12,
   "metadata": {},
   "outputs": [],
   "source": [
    "train_y = le.transform(train_y)\n",
    "test_y = le.transform(test_y)"
   ]
  },
  {
   "cell_type": "code",
   "execution_count": 13,
   "metadata": {},
   "outputs": [],
   "source": [
    "class DataGener:\n",
    "    def __init__(self, train_X_paths, test_X_paths, train_y, test_y):\n",
    "        self.train_X_paths = train_X_paths\n",
    "        self.test_X_paths = test_X_paths\n",
    "        self.train_y = train_y\n",
    "        self.test_y = test_y\n",
    "        self.batch_size = BATCH_SIZE\n",
    "        self.current_train = 0\n",
    "        self.current_test = 0\n",
    "    \n",
    "    def preprocessing_image(self, image):\n",
    "        h, w, c = image.shape\n",
    "        d_w = 0\n",
    "        d_h = 0 \n",
    "\n",
    "        if w > h:\n",
    "            image = imutils.resize(image, height=HEIGHT)\n",
    "            d_w = int((image.shape[1] - WIDTH)/2)\n",
    "        else:\n",
    "            image = imutils.resize(image, width=WIDTH)\n",
    "            d_h = int((image.shape[0] - HEIGHT)/2)\n",
    "\n",
    "        image = image[d_h:image.shape[0]-d_h, d_w:image.shape[1]-d_w]\n",
    "        image = cv2.resize(image, (HEIGHT, WIDTH), interpolation=cv2.INTER_AREA)\n",
    "\n",
    "        return image\n",
    "    \n",
    "    def load_image(self, image_paths):\n",
    "        images = []\n",
    "\n",
    "        for img_path in image_paths:\n",
    "            image = cv2.imread(img_path)\n",
    "            image = self.preprocessing_image(image)\n",
    "            image = image / 255\n",
    "            images.append(image)\n",
    "\n",
    "        images = np.array(images)\n",
    "        return images\n",
    "    \n",
    "    def next_train(self):\n",
    "        if self.current_train + self.batch_size > len(self.train_X_paths):\n",
    "            self.current_train = 0\n",
    "            self.train_X_paths, self.train_y = shuffle(self.train_X_paths, self.train_y, random_state=42)\n",
    "        \n",
    "        batch_img_paths = self.train_X_paths[self.current_train:self.current_train + self.batch_size]\n",
    "        batch_imgs = self.load_image(batch_img_paths)\n",
    "        batch_labels = self.train_y[self.current_train:self.current_train+self.batch_size]\n",
    "        self.current_train += self.batch_size\n",
    "        \n",
    "        return batch_imgs, batch_labels\n",
    "    \n",
    "    def next_test(self):\n",
    "        if self.current_test+ self.batch_size > len(self.test_X_paths):\n",
    "            self.current_test = 0\n",
    "            self.test_X_paths, self.test_y = shuffle(self.test_X_paths, self.test_y, random_state=42)\n",
    "        \n",
    "        batch_img_paths = self.test_X_paths[self.current_test:self.current_test + self.batch_size]\n",
    "        batch_imgs = self.load_image(batch_img_paths)\n",
    "        batch_labels = self.test_y[self.current_test:self.current_test+self.batch_size]\n",
    "        self.current_test += self.batch_size\n",
    "        \n",
    "        return batch_imgs, batch_labels\n",
    "    \n",
    "    def get_batch(self, s=\"train\"):\n",
    "        while True:\n",
    "            if s == \"train\":\n",
    "                batch_X, batch_y = self.next_train()\n",
    "            else:\n",
    "                batch_X, batch_y = self.next_test()\n",
    "                \n",
    "            yield (batch_X, batch_y)"
   ]
  },
  {
   "cell_type": "code",
   "execution_count": 14,
   "metadata": {},
   "outputs": [],
   "source": [
    "data_gener = DataGener(train_X_paths, test_X_paths, train_y, test_y)"
   ]
  },
  {
   "cell_type": "code",
   "execution_count": 15,
   "metadata": {},
   "outputs": [],
   "source": [
    "test_X = data_gener.load_image(test_X_paths)"
   ]
  },
  {
   "cell_type": "code",
   "execution_count": 16,
   "metadata": {},
   "outputs": [
    {
     "name": "stdout",
     "output_type": "stream",
     "text": [
      "WARNING:tensorflow:From /Users/apple/Documents/env/lib/python3.6/site-packages/keras/backend/tensorflow_backend.py:3733: calling dropout (from tensorflow.python.ops.nn_ops) with keep_prob is deprecated and will be removed in a future version.\n",
      "Instructions for updating:\n",
      "Please use `rate` instead of `keep_prob`. Rate should be set to `rate = 1 - keep_prob`.\n"
     ]
    }
   ],
   "source": [
    "head_model = FCHeadNet.build(base_model, len(le.classes_), 256)"
   ]
  },
  {
   "cell_type": "code",
   "execution_count": 17,
   "metadata": {},
   "outputs": [],
   "source": [
    "for layer in base_model.layers:\n",
    "    layer.trainable = False"
   ]
  },
  {
   "cell_type": "code",
   "execution_count": 18,
   "metadata": {},
   "outputs": [],
   "source": [
    "model = Model(inputs=base_model.input, outputs=head_model)"
   ]
  },
  {
   "cell_type": "code",
   "execution_count": 19,
   "metadata": {},
   "outputs": [
    {
     "name": "stdout",
     "output_type": "stream",
     "text": [
      "Model: \"model_1\"\n",
      "_________________________________________________________________\n",
      "Layer (type)                 Output Shape              Param #   \n",
      "=================================================================\n",
      "input_1 (InputLayer)         (None, 224, 224, 3)       0         \n",
      "_________________________________________________________________\n",
      "block1_conv1 (Conv2D)        (None, 224, 224, 64)      1792      \n",
      "_________________________________________________________________\n",
      "block1_conv2 (Conv2D)        (None, 224, 224, 64)      36928     \n",
      "_________________________________________________________________\n",
      "block1_pool (MaxPooling2D)   (None, 112, 112, 64)      0         \n",
      "_________________________________________________________________\n",
      "block2_conv1 (Conv2D)        (None, 112, 112, 128)     73856     \n",
      "_________________________________________________________________\n",
      "block2_conv2 (Conv2D)        (None, 112, 112, 128)     147584    \n",
      "_________________________________________________________________\n",
      "block2_pool (MaxPooling2D)   (None, 56, 56, 128)       0         \n",
      "_________________________________________________________________\n",
      "block3_conv1 (Conv2D)        (None, 56, 56, 256)       295168    \n",
      "_________________________________________________________________\n",
      "block3_conv2 (Conv2D)        (None, 56, 56, 256)       590080    \n",
      "_________________________________________________________________\n",
      "block3_conv3 (Conv2D)        (None, 56, 56, 256)       590080    \n",
      "_________________________________________________________________\n",
      "block3_pool (MaxPooling2D)   (None, 28, 28, 256)       0         \n",
      "_________________________________________________________________\n",
      "block4_conv1 (Conv2D)        (None, 28, 28, 512)       1180160   \n",
      "_________________________________________________________________\n",
      "block4_conv2 (Conv2D)        (None, 28, 28, 512)       2359808   \n",
      "_________________________________________________________________\n",
      "block4_conv3 (Conv2D)        (None, 28, 28, 512)       2359808   \n",
      "_________________________________________________________________\n",
      "block4_pool (MaxPooling2D)   (None, 14, 14, 512)       0         \n",
      "_________________________________________________________________\n",
      "block5_conv1 (Conv2D)        (None, 14, 14, 512)       2359808   \n",
      "_________________________________________________________________\n",
      "block5_conv2 (Conv2D)        (None, 14, 14, 512)       2359808   \n",
      "_________________________________________________________________\n",
      "block5_conv3 (Conv2D)        (None, 14, 14, 512)       2359808   \n",
      "_________________________________________________________________\n",
      "block5_pool (MaxPooling2D)   (None, 7, 7, 512)         0         \n",
      "_________________________________________________________________\n",
      "Flatten (Flatten)            (None, 25088)             0         \n",
      "_________________________________________________________________\n",
      "dense_1 (Dense)              (None, 256)               6422784   \n",
      "_________________________________________________________________\n",
      "dropout_1 (Dropout)          (None, 256)               0         \n",
      "_________________________________________________________________\n",
      "dense_2 (Dense)              (None, 36)                9252      \n",
      "=================================================================\n",
      "Total params: 21,146,724\n",
      "Trainable params: 6,432,036\n",
      "Non-trainable params: 14,714,688\n",
      "_________________________________________________________________\n"
     ]
    }
   ],
   "source": [
    "model.summary()"
   ]
  },
  {
   "cell_type": "code",
   "execution_count": 20,
   "metadata": {},
   "outputs": [],
   "source": [
    "opt = RMSprop(lr=0.001)"
   ]
  },
  {
   "cell_type": "code",
   "execution_count": 21,
   "metadata": {},
   "outputs": [
    {
     "name": "stdout",
     "output_type": "stream",
     "text": [
      "WARNING:tensorflow:From /Users/apple/Documents/env/lib/python3.6/site-packages/keras/optimizers.py:793: The name tf.train.Optimizer is deprecated. Please use tf.compat.v1.train.Optimizer instead.\n",
      "\n"
     ]
    }
   ],
   "source": [
    "model.compile(loss=\"categorical_crossentropy\", optimizer=opt, metrics=[\"accuracy\"])"
   ]
  },
  {
   "cell_type": "code",
   "execution_count": 44,
   "metadata": {},
   "outputs": [
    {
     "name": "stdout",
     "output_type": "stream",
     "text": [
      "Epoch 1/25\n",
      "198/198 [==============================] - 24s 122ms/step - loss: 2.7165 - accuracy: 0.2566 - val_loss: 1.1265 - val_accuracy: 0.8231\n",
      "Epoch 2/25\n",
      "198/198 [==============================] - 24s 122ms/step - loss: 1.5166 - accuracy: 0.5112 - val_loss: 0.4047 - val_accuracy: 0.9546\n",
      "Epoch 3/25\n",
      "198/198 [==============================] - 24s 119ms/step - loss: 1.1402 - accuracy: 0.5996 - val_loss: 0.1860 - val_accuracy: 0.9697\n",
      "Epoch 4/25\n",
      "198/198 [==============================] - 24s 121ms/step - loss: 0.9930 - accuracy: 0.6504 - val_loss: 0.1981 - val_accuracy: 0.9593\n",
      "Epoch 5/25\n",
      "198/198 [==============================] - 24s 120ms/step - loss: 0.9002 - accuracy: 0.6741 - val_loss: 0.1077 - val_accuracy: 0.9650\n",
      "Epoch 6/25\n",
      "198/198 [==============================] - 24s 119ms/step - loss: 0.8659 - accuracy: 0.6749 - val_loss: 0.0987 - val_accuracy: 0.9702\n",
      "Epoch 7/25\n",
      "198/198 [==============================] - 24s 121ms/step - loss: 0.8236 - accuracy: 0.6970 - val_loss: 0.0859 - val_accuracy: 0.9683\n",
      "Epoch 8/25\n",
      "198/198 [==============================] - 23s 118ms/step - loss: 0.7446 - accuracy: 0.7167 - val_loss: 0.0656 - val_accuracy: 0.9730\n",
      "Epoch 9/25\n",
      "198/198 [==============================] - 24s 120ms/step - loss: 0.7301 - accuracy: 0.7298 - val_loss: 0.1406 - val_accuracy: 0.9376\n",
      "Epoch 10/25\n",
      "198/198 [==============================] - 23s 119ms/step - loss: 0.6877 - accuracy: 0.7454 - val_loss: 0.0760 - val_accuracy: 0.9707\n",
      "Epoch 11/25\n",
      "198/198 [==============================] - 24s 119ms/step - loss: 0.6611 - accuracy: 0.7543 - val_loss: 0.0645 - val_accuracy: 0.9730\n",
      "Epoch 12/25\n",
      "198/198 [==============================] - 24s 120ms/step - loss: 0.6371 - accuracy: 0.7554 - val_loss: 0.0669 - val_accuracy: 0.9721\n",
      "Epoch 13/25\n",
      "198/198 [==============================] - 23s 118ms/step - loss: 0.6480 - accuracy: 0.7554 - val_loss: 0.0773 - val_accuracy: 0.9688\n",
      "Epoch 14/25\n",
      "198/198 [==============================] - 24s 120ms/step - loss: 0.6406 - accuracy: 0.7636 - val_loss: 0.0677 - val_accuracy: 0.9716\n",
      "Epoch 15/25\n",
      "198/198 [==============================] - 24s 119ms/step - loss: 0.6119 - accuracy: 0.7599 - val_loss: 0.0642 - val_accuracy: 0.9716\n",
      "Epoch 16/25\n",
      "198/198 [==============================] - 23s 118ms/step - loss: 0.6085 - accuracy: 0.7713 - val_loss: 0.0733 - val_accuracy: 0.9716\n",
      "Epoch 17/25\n",
      "198/198 [==============================] - 24s 120ms/step - loss: 0.6225 - accuracy: 0.7696 - val_loss: 0.0618 - val_accuracy: 0.9716\n",
      "Epoch 18/25\n",
      "198/198 [==============================] - 23s 119ms/step - loss: 0.5887 - accuracy: 0.7680 - val_loss: 0.0604 - val_accuracy: 0.9721\n",
      "Epoch 19/25\n",
      "198/198 [==============================] - 24s 119ms/step - loss: 0.5960 - accuracy: 0.7598 - val_loss: 0.0653 - val_accuracy: 0.9716\n",
      "Epoch 20/25\n",
      "198/198 [==============================] - 24s 119ms/step - loss: 0.5834 - accuracy: 0.7765 - val_loss: 0.0722 - val_accuracy: 0.9702\n",
      "Epoch 21/25\n",
      "198/198 [==============================] - 23s 118ms/step - loss: 0.5653 - accuracy: 0.7741 - val_loss: 0.0751 - val_accuracy: 0.9707\n",
      "Epoch 22/25\n",
      "198/198 [==============================] - 24s 120ms/step - loss: 0.5958 - accuracy: 0.7699 - val_loss: 0.0658 - val_accuracy: 0.9745\n",
      "Epoch 23/25\n",
      "198/198 [==============================] - 24s 119ms/step - loss: 0.5640 - accuracy: 0.7831 - val_loss: 0.0687 - val_accuracy: 0.9735\n",
      "Epoch 24/25\n",
      "198/198 [==============================] - 24s 119ms/step - loss: 0.5738 - accuracy: 0.7775 - val_loss: 0.0634 - val_accuracy: 0.9735\n",
      "Epoch 25/25\n",
      "198/198 [==============================] - 24s 120ms/step - loss: 0.5925 - accuracy: 0.7756 - val_loss: 0.0727 - val_accuracy: 0.9726\n"
     ]
    }
   ],
   "source": [
    "H = model.fit_generator(data_gener.get_batch(), \n",
    "                    validation_data=(test_X, test_y), \n",
    "                    validation_steps=len(test_X_paths) // BATCH_SIZE, \n",
    "                    epochs=25, steps_per_epoch=len(train_X_paths) // BATCH_SIZE,\n",
    "                    verbose=1)"
   ]
  },
  {
   "cell_type": "code",
   "execution_count": 22,
   "metadata": {},
   "outputs": [
    {
     "data": {
      "text/plain": [
       "array(['0', '1', '2', '3', '4', '5', '6', '7', '8', '9', 'A', 'B', 'C',\n",
       "       'D', 'E', 'F', 'G', 'H', 'I', 'J', 'K', 'L', 'M', 'N', 'O', 'P',\n",
       "       'Q', 'R', 'S', 'T', 'U', 'V', 'W', 'X', 'Y', 'Z'], dtype='<U1')"
      ]
     },
     "execution_count": 22,
     "metadata": {},
     "output_type": "execute_result"
    }
   ],
   "source": [
    "le.classes_"
   ]
  },
  {
   "cell_type": "code",
   "execution_count": 24,
   "metadata": {},
   "outputs": [],
   "source": [
    "# print(\"Plot classification report\")\n",
    "# predictions = model.predict(test_X)\n",
    "\n",
    "# print(classification_report(predictions.argmax(axis=1), test_y.argmax(axis=1), target_names=le.classes_))"
   ]
  },
  {
   "cell_type": "code",
   "execution_count": 25,
   "metadata": {},
   "outputs": [],
   "source": [
    "for layer in model.layers[15:]:\n",
    "    layer.trainable = True"
   ]
  },
  {
   "cell_type": "code",
   "execution_count": 26,
   "metadata": {},
   "outputs": [
    {
     "name": "stdout",
     "output_type": "stream",
     "text": [
      "Model: \"model_1\"\n",
      "_________________________________________________________________\n",
      "Layer (type)                 Output Shape              Param #   \n",
      "=================================================================\n",
      "input_1 (InputLayer)         (None, 224, 224, 3)       0         \n",
      "_________________________________________________________________\n",
      "block1_conv1 (Conv2D)        (None, 224, 224, 64)      1792      \n",
      "_________________________________________________________________\n",
      "block1_conv2 (Conv2D)        (None, 224, 224, 64)      36928     \n",
      "_________________________________________________________________\n",
      "block1_pool (MaxPooling2D)   (None, 112, 112, 64)      0         \n",
      "_________________________________________________________________\n",
      "block2_conv1 (Conv2D)        (None, 112, 112, 128)     73856     \n",
      "_________________________________________________________________\n",
      "block2_conv2 (Conv2D)        (None, 112, 112, 128)     147584    \n",
      "_________________________________________________________________\n",
      "block2_pool (MaxPooling2D)   (None, 56, 56, 128)       0         \n",
      "_________________________________________________________________\n",
      "block3_conv1 (Conv2D)        (None, 56, 56, 256)       295168    \n",
      "_________________________________________________________________\n",
      "block3_conv2 (Conv2D)        (None, 56, 56, 256)       590080    \n",
      "_________________________________________________________________\n",
      "block3_conv3 (Conv2D)        (None, 56, 56, 256)       590080    \n",
      "_________________________________________________________________\n",
      "block3_pool (MaxPooling2D)   (None, 28, 28, 256)       0         \n",
      "_________________________________________________________________\n",
      "block4_conv1 (Conv2D)        (None, 28, 28, 512)       1180160   \n",
      "_________________________________________________________________\n",
      "block4_conv2 (Conv2D)        (None, 28, 28, 512)       2359808   \n",
      "_________________________________________________________________\n",
      "block4_conv3 (Conv2D)        (None, 28, 28, 512)       2359808   \n",
      "_________________________________________________________________\n",
      "block4_pool (MaxPooling2D)   (None, 14, 14, 512)       0         \n",
      "_________________________________________________________________\n",
      "block5_conv1 (Conv2D)        (None, 14, 14, 512)       2359808   \n",
      "_________________________________________________________________\n",
      "block5_conv2 (Conv2D)        (None, 14, 14, 512)       2359808   \n",
      "_________________________________________________________________\n",
      "block5_conv3 (Conv2D)        (None, 14, 14, 512)       2359808   \n",
      "_________________________________________________________________\n",
      "block5_pool (MaxPooling2D)   (None, 7, 7, 512)         0         \n",
      "_________________________________________________________________\n",
      "Flatten (Flatten)            (None, 25088)             0         \n",
      "_________________________________________________________________\n",
      "dense_1 (Dense)              (None, 256)               6422784   \n",
      "_________________________________________________________________\n",
      "dropout_1 (Dropout)          (None, 256)               0         \n",
      "_________________________________________________________________\n",
      "dense_2 (Dense)              (None, 36)                9252      \n",
      "=================================================================\n",
      "Total params: 14,067,300\n",
      "Trainable params: 6,432,036\n",
      "Non-trainable params: 7,635,264\n",
      "_________________________________________________________________\n"
     ]
    }
   ],
   "source": [
    "model.summary()"
   ]
  },
  {
   "cell_type": "code",
   "execution_count": 27,
   "metadata": {},
   "outputs": [],
   "source": [
    "weight_dir = \"./weights\"\n",
    "\n",
    "if not os.path.exists(weight_dir):\n",
    "    os.mkdir(weight_dir)"
   ]
  },
  {
   "cell_type": "code",
   "execution_count": 28,
   "metadata": {},
   "outputs": [],
   "source": [
    "best_weight_path = os.path.join(weight_dir, \"best_weight.hdf5\")"
   ]
  },
  {
   "cell_type": "code",
   "execution_count": 29,
   "metadata": {},
   "outputs": [],
   "source": [
    "checkpoint = ModelCheckpoint(best_weight_path, mode=\"min\", monitor=\"val_loss\", verbose=1, save_best_only=True)"
   ]
  },
  {
   "cell_type": "code",
   "execution_count": 31,
   "metadata": {},
   "outputs": [],
   "source": [
    "opt = SGD(lr=0.001)"
   ]
  },
  {
   "cell_type": "code",
   "execution_count": 32,
   "metadata": {},
   "outputs": [],
   "source": [
    "model.compile(loss=\"categorical_crossentropy\", optimizer=opt, metrics=[\"accuracy\"])"
   ]
  },
  {
   "cell_type": "code",
   "execution_count": 54,
   "metadata": {},
   "outputs": [
    {
     "name": "stdout",
     "output_type": "stream",
     "text": [
      "Epoch 1/100\n",
      "198/198 [==============================] - 26s 133ms/step - loss: 4.1043 - accuracy: 0.0350 - val_loss: 3.5850 - val_accuracy: 0.0449\n",
      "\n",
      "Epoch 00001: val_loss improved from inf to 3.58496, saving model to ./weights/best_weight.hdf5\n",
      "Epoch 2/100\n",
      "198/198 [==============================] - 25s 129ms/step - loss: 3.6089 - accuracy: 0.0246 - val_loss: 3.5935 - val_accuracy: 0.0166\n",
      "\n",
      "Epoch 00002: val_loss did not improve from 3.58496\n",
      "Epoch 3/100\n",
      "198/198 [==============================] - 26s 131ms/step - loss: 3.5806 - accuracy: 0.0426 - val_loss: 3.5018 - val_accuracy: 0.0728\n",
      "\n",
      "Epoch 00003: val_loss improved from 3.58496 to 3.50179, saving model to ./weights/best_weight.hdf5\n",
      "Epoch 4/100\n",
      "198/198 [==============================] - 25s 129ms/step - loss: 3.5099 - accuracy: 0.0691 - val_loss: 3.3855 - val_accuracy: 0.0790\n",
      "\n",
      "Epoch 00004: val_loss improved from 3.50179 to 3.38554, saving model to ./weights/best_weight.hdf5\n",
      "Epoch 5/100\n",
      "198/198 [==============================] - 26s 130ms/step - loss: 3.2240 - accuracy: 0.1425 - val_loss: 2.7479 - val_accuracy: 0.3590\n",
      "\n",
      "Epoch 00005: val_loss improved from 3.38554 to 2.74794, saving model to ./weights/best_weight.hdf5\n",
      "Epoch 6/100\n",
      "198/198 [==============================] - 25s 128ms/step - loss: 2.3051 - accuracy: 0.3843 - val_loss: 1.1817 - val_accuracy: 0.7545\n",
      "\n",
      "Epoch 00006: val_loss improved from 2.74794 to 1.18167, saving model to ./weights/best_weight.hdf5\n",
      "Epoch 7/100\n",
      "198/198 [==============================] - 26s 129ms/step - loss: 1.2094 - accuracy: 0.6654 - val_loss: 0.4554 - val_accuracy: 0.8931\n",
      "\n",
      "Epoch 00007: val_loss improved from 1.18167 to 0.45538, saving model to ./weights/best_weight.hdf5\n",
      "Epoch 8/100\n",
      "198/198 [==============================] - 26s 131ms/step - loss: 0.6937 - accuracy: 0.8043 - val_loss: 0.1913 - val_accuracy: 0.9513\n",
      "\n",
      "Epoch 00008: val_loss improved from 0.45538 to 0.19135, saving model to ./weights/best_weight.hdf5\n",
      "Epoch 9/100\n",
      "198/198 [==============================] - 25s 128ms/step - loss: 0.4424 - accuracy: 0.8764 - val_loss: 0.1383 - val_accuracy: 0.9560\n",
      "\n",
      "Epoch 00009: val_loss improved from 0.19135 to 0.13827, saving model to ./weights/best_weight.hdf5\n",
      "Epoch 10/100\n",
      "198/198 [==============================] - 26s 130ms/step - loss: 0.3542 - accuracy: 0.8957 - val_loss: 0.0971 - val_accuracy: 0.9636\n",
      "\n",
      "Epoch 00010: val_loss improved from 0.13827 to 0.09712, saving model to ./weights/best_weight.hdf5\n",
      "Epoch 11/100\n",
      "198/198 [==============================] - 25s 128ms/step - loss: 0.3023 - accuracy: 0.9088 - val_loss: 0.0964 - val_accuracy: 0.9636\n",
      "\n",
      "Epoch 00011: val_loss improved from 0.09712 to 0.09641, saving model to ./weights/best_weight.hdf5\n",
      "Epoch 12/100\n",
      "198/198 [==============================] - 26s 130ms/step - loss: 0.2555 - accuracy: 0.9171 - val_loss: 0.0851 - val_accuracy: 0.9650\n",
      "\n",
      "Epoch 00012: val_loss improved from 0.09641 to 0.08509, saving model to ./weights/best_weight.hdf5\n",
      "Epoch 13/100\n",
      "198/198 [==============================] - 25s 129ms/step - loss: 0.2260 - accuracy: 0.9271 - val_loss: 0.0831 - val_accuracy: 0.9617\n",
      "\n",
      "Epoch 00013: val_loss improved from 0.08509 to 0.08311, saving model to ./weights/best_weight.hdf5\n",
      "Epoch 14/100\n",
      "198/198 [==============================] - 26s 129ms/step - loss: 0.2018 - accuracy: 0.9372 - val_loss: 0.0722 - val_accuracy: 0.9645\n",
      "\n",
      "Epoch 00014: val_loss improved from 0.08311 to 0.07220, saving model to ./weights/best_weight.hdf5\n",
      "Epoch 15/100\n",
      "198/198 [==============================] - 26s 130ms/step - loss: 0.1887 - accuracy: 0.9386 - val_loss: 0.0786 - val_accuracy: 0.9674\n",
      "\n",
      "Epoch 00015: val_loss did not improve from 0.07220\n",
      "Epoch 16/100\n",
      "198/198 [==============================] - 26s 129ms/step - loss: 0.1890 - accuracy: 0.9367 - val_loss: 0.0697 - val_accuracy: 0.9640\n",
      "\n",
      "Epoch 00016: val_loss improved from 0.07220 to 0.06973, saving model to ./weights/best_weight.hdf5\n",
      "Epoch 17/100\n",
      "198/198 [==============================] - 26s 131ms/step - loss: 0.1531 - accuracy: 0.9498 - val_loss: 0.0659 - val_accuracy: 0.9683\n",
      "\n",
      "Epoch 00017: val_loss improved from 0.06973 to 0.06591, saving model to ./weights/best_weight.hdf5\n",
      "Epoch 18/100\n",
      "198/198 [==============================] - 26s 129ms/step - loss: 0.1568 - accuracy: 0.9479 - val_loss: 0.0673 - val_accuracy: 0.9688\n",
      "\n",
      "Epoch 00018: val_loss did not improve from 0.06591\n",
      "Epoch 19/100\n",
      "198/198 [==============================] - 26s 130ms/step - loss: 0.1437 - accuracy: 0.9517 - val_loss: 0.0625 - val_accuracy: 0.9697\n",
      "\n",
      "Epoch 00019: val_loss improved from 0.06591 to 0.06253, saving model to ./weights/best_weight.hdf5\n",
      "Epoch 20/100\n",
      "198/198 [==============================] - 25s 129ms/step - loss: 0.1385 - accuracy: 0.9503 - val_loss: 0.0639 - val_accuracy: 0.9697\n",
      "\n",
      "Epoch 00020: val_loss did not improve from 0.06253\n",
      "Epoch 21/100\n",
      "198/198 [==============================] - 26s 129ms/step - loss: 0.1390 - accuracy: 0.9509 - val_loss: 0.0610 - val_accuracy: 0.9702\n",
      "\n",
      "Epoch 00021: val_loss improved from 0.06253 to 0.06104, saving model to ./weights/best_weight.hdf5\n",
      "Epoch 22/100\n",
      "198/198 [==============================] - 26s 130ms/step - loss: 0.1327 - accuracy: 0.9517 - val_loss: 0.0610 - val_accuracy: 0.9707\n",
      "\n",
      "Epoch 00022: val_loss improved from 0.06104 to 0.06103, saving model to ./weights/best_weight.hdf5\n",
      "Epoch 23/100\n",
      "198/198 [==============================] - 26s 129ms/step - loss: 0.1178 - accuracy: 0.9580 - val_loss: 0.0559 - val_accuracy: 0.9693\n",
      "\n",
      "Epoch 00023: val_loss improved from 0.06103 to 0.05587, saving model to ./weights/best_weight.hdf5\n",
      "Epoch 24/100\n",
      "198/198 [==============================] - 26s 131ms/step - loss: 0.1111 - accuracy: 0.9571 - val_loss: 0.0568 - val_accuracy: 0.9726\n",
      "\n",
      "Epoch 00024: val_loss did not improve from 0.05587\n",
      "Epoch 25/100\n",
      "198/198 [==============================] - 25s 128ms/step - loss: 0.1097 - accuracy: 0.9580 - val_loss: 0.0581 - val_accuracy: 0.9693\n",
      "\n",
      "Epoch 00025: val_loss did not improve from 0.05587\n",
      "Epoch 26/100\n",
      "198/198 [==============================] - 26s 130ms/step - loss: 0.1037 - accuracy: 0.9620 - val_loss: 0.0575 - val_accuracy: 0.9697\n",
      "\n",
      "Epoch 00026: val_loss did not improve from 0.05587\n",
      "Epoch 27/100\n",
      "198/198 [==============================] - 26s 129ms/step - loss: 0.1043 - accuracy: 0.9632 - val_loss: 0.0574 - val_accuracy: 0.9721\n",
      "\n",
      "Epoch 00027: val_loss did not improve from 0.05587\n",
      "Epoch 28/100\n",
      "198/198 [==============================] - 26s 129ms/step - loss: 0.1006 - accuracy: 0.9616 - val_loss: 0.0574 - val_accuracy: 0.9702\n",
      "\n",
      "Epoch 00028: val_loss did not improve from 0.05587\n",
      "Epoch 29/100\n",
      "198/198 [==============================] - 26s 129ms/step - loss: 0.0978 - accuracy: 0.9661 - val_loss: 0.0610 - val_accuracy: 0.9693\n",
      "\n",
      "Epoch 00029: val_loss did not improve from 0.05587\n",
      "Epoch 30/100\n",
      "198/198 [==============================] - 25s 129ms/step - loss: 0.0989 - accuracy: 0.9616 - val_loss: 0.0563 - val_accuracy: 0.9735\n",
      "\n",
      "Epoch 00030: val_loss did not improve from 0.05587\n",
      "Epoch 31/100\n",
      "198/198 [==============================] - 26s 131ms/step - loss: 0.0936 - accuracy: 0.9637 - val_loss: 0.0549 - val_accuracy: 0.9716\n",
      "\n",
      "Epoch 00031: val_loss improved from 0.05587 to 0.05494, saving model to ./weights/best_weight.hdf5\n",
      "Epoch 32/100\n",
      "198/198 [==============================] - 26s 129ms/step - loss: 0.0946 - accuracy: 0.9632 - val_loss: 0.0581 - val_accuracy: 0.9721\n",
      "\n",
      "Epoch 00032: val_loss did not improve from 0.05494\n",
      "Epoch 33/100\n",
      "198/198 [==============================] - 26s 130ms/step - loss: 0.0828 - accuracy: 0.9656 - val_loss: 0.0548 - val_accuracy: 0.9721\n",
      "\n",
      "Epoch 00033: val_loss improved from 0.05494 to 0.05480, saving model to ./weights/best_weight.hdf5\n",
      "Epoch 34/100\n",
      "198/198 [==============================] - 25s 128ms/step - loss: 0.0878 - accuracy: 0.9661 - val_loss: 0.0550 - val_accuracy: 0.9726\n",
      "\n",
      "Epoch 00034: val_loss did not improve from 0.05480\n",
      "Epoch 35/100\n",
      "198/198 [==============================] - 26s 130ms/step - loss: 0.0912 - accuracy: 0.9653 - val_loss: 0.0556 - val_accuracy: 0.9721\n",
      "\n",
      "Epoch 00035: val_loss did not improve from 0.05480\n",
      "Epoch 36/100\n",
      "198/198 [==============================] - 26s 130ms/step - loss: 0.0803 - accuracy: 0.9683 - val_loss: 0.0550 - val_accuracy: 0.9721\n",
      "\n",
      "Epoch 00036: val_loss did not improve from 0.05480\n",
      "Epoch 37/100\n",
      "198/198 [==============================] - 25s 129ms/step - loss: 0.0840 - accuracy: 0.9670 - val_loss: 0.0551 - val_accuracy: 0.9763\n",
      "\n",
      "Epoch 00037: val_loss did not improve from 0.05480\n",
      "Epoch 38/100\n",
      "198/198 [==============================] - 26s 130ms/step - loss: 0.0765 - accuracy: 0.9716 - val_loss: 0.0583 - val_accuracy: 0.9721\n",
      "\n",
      "Epoch 00038: val_loss did not improve from 0.05480\n",
      "Epoch 39/100\n",
      "198/198 [==============================] - 35s 177ms/step - loss: 0.0765 - accuracy: 0.9703 - val_loss: 0.0531 - val_accuracy: 0.9768\n",
      "\n",
      "Epoch 00039: val_loss improved from 0.05480 to 0.05310, saving model to ./weights/best_weight.hdf5\n",
      "Epoch 40/100\n",
      "198/198 [==============================] - 26s 131ms/step - loss: 0.0796 - accuracy: 0.9662 - val_loss: 0.0547 - val_accuracy: 0.9749\n",
      "\n",
      "Epoch 00040: val_loss did not improve from 0.05310\n",
      "Epoch 41/100\n",
      "198/198 [==============================] - 26s 129ms/step - loss: 0.0801 - accuracy: 0.9665 - val_loss: 0.0530 - val_accuracy: 0.9730\n",
      "\n",
      "Epoch 00041: val_loss improved from 0.05310 to 0.05303, saving model to ./weights/best_weight.hdf5\n",
      "Epoch 42/100\n",
      "198/198 [==============================] - 26s 131ms/step - loss: 0.0720 - accuracy: 0.9700 - val_loss: 0.0561 - val_accuracy: 0.9721\n",
      "\n",
      "Epoch 00042: val_loss did not improve from 0.05303\n",
      "Epoch 43/100\n",
      "198/198 [==============================] - 25s 129ms/step - loss: 0.0727 - accuracy: 0.9684 - val_loss: 0.0540 - val_accuracy: 0.9726\n",
      "\n",
      "Epoch 00043: val_loss did not improve from 0.05303\n",
      "Epoch 44/100\n",
      "198/198 [==============================] - 26s 129ms/step - loss: 0.0767 - accuracy: 0.9681 - val_loss: 0.0540 - val_accuracy: 0.9768\n",
      "\n",
      "Epoch 00044: val_loss did not improve from 0.05303\n",
      "Epoch 45/100\n",
      "198/198 [==============================] - 26s 129ms/step - loss: 0.0727 - accuracy: 0.9691 - val_loss: 0.0552 - val_accuracy: 0.9740\n",
      "\n",
      "Epoch 00045: val_loss did not improve from 0.05303\n",
      "Epoch 46/100\n",
      "198/198 [==============================] - 25s 128ms/step - loss: 0.0731 - accuracy: 0.9686 - val_loss: 0.0524 - val_accuracy: 0.9735\n",
      "\n",
      "Epoch 00046: val_loss improved from 0.05303 to 0.05238, saving model to ./weights/best_weight.hdf5\n",
      "Epoch 47/100\n",
      "198/198 [==============================] - 26s 131ms/step - loss: 0.0705 - accuracy: 0.9683 - val_loss: 0.0540 - val_accuracy: 0.9749\n",
      "\n",
      "Epoch 00047: val_loss did not improve from 0.05238\n",
      "Epoch 48/100\n",
      "198/198 [==============================] - 25s 128ms/step - loss: 0.0683 - accuracy: 0.9717 - val_loss: 0.0551 - val_accuracy: 0.9730\n",
      "\n",
      "Epoch 00048: val_loss did not improve from 0.05238\n",
      "Epoch 49/100\n",
      "198/198 [==============================] - 26s 130ms/step - loss: 0.0662 - accuracy: 0.9694 - val_loss: 0.0551 - val_accuracy: 0.9735\n",
      "\n",
      "Epoch 00049: val_loss did not improve from 0.05238\n",
      "Epoch 50/100\n",
      "198/198 [==============================] - 25s 129ms/step - loss: 0.0682 - accuracy: 0.9692 - val_loss: 0.0556 - val_accuracy: 0.9754\n",
      "\n",
      "Epoch 00050: val_loss did not improve from 0.05238\n",
      "Epoch 51/100\n",
      "198/198 [==============================] - 26s 129ms/step - loss: 0.0634 - accuracy: 0.9747 - val_loss: 0.0538 - val_accuracy: 0.9763\n",
      "\n",
      "Epoch 00051: val_loss did not improve from 0.05238\n",
      "Epoch 52/100\n",
      "198/198 [==============================] - 26s 130ms/step - loss: 0.0619 - accuracy: 0.9722 - val_loss: 0.0545 - val_accuracy: 0.9763\n",
      "\n",
      "Epoch 00052: val_loss did not improve from 0.05238\n",
      "Epoch 53/100\n",
      "198/198 [==============================] - 25s 129ms/step - loss: 0.0667 - accuracy: 0.9711 - val_loss: 0.0530 - val_accuracy: 0.9787\n",
      "\n",
      "Epoch 00053: val_loss did not improve from 0.05238\n",
      "Epoch 54/100\n",
      "198/198 [==============================] - 26s 131ms/step - loss: 0.0669 - accuracy: 0.9708 - val_loss: 0.0536 - val_accuracy: 0.9730\n",
      "\n",
      "Epoch 00054: val_loss did not improve from 0.05238\n",
      "Epoch 55/100\n",
      "198/198 [==============================] - 25s 129ms/step - loss: 0.0628 - accuracy: 0.9703 - val_loss: 0.0559 - val_accuracy: 0.9745\n",
      "\n",
      "Epoch 00055: val_loss did not improve from 0.05238\n",
      "Epoch 56/100\n",
      "198/198 [==============================] - 26s 130ms/step - loss: 0.0631 - accuracy: 0.9705 - val_loss: 0.0528 - val_accuracy: 0.9773\n",
      "\n",
      "Epoch 00056: val_loss did not improve from 0.05238\n",
      "Epoch 57/100\n",
      "198/198 [==============================] - 26s 129ms/step - loss: 0.0651 - accuracy: 0.9716 - val_loss: 0.0542 - val_accuracy: 0.9735\n",
      "\n",
      "Epoch 00057: val_loss did not improve from 0.05238\n",
      "Epoch 58/100\n",
      "198/198 [==============================] - 26s 129ms/step - loss: 0.0643 - accuracy: 0.9711 - val_loss: 0.0545 - val_accuracy: 0.9740\n",
      "\n",
      "Epoch 00058: val_loss did not improve from 0.05238\n",
      "Epoch 59/100\n",
      "198/198 [==============================] - 26s 130ms/step - loss: 0.0610 - accuracy: 0.9733 - val_loss: 0.0539 - val_accuracy: 0.9721\n",
      "\n",
      "Epoch 00059: val_loss did not improve from 0.05238\n",
      "Epoch 60/100\n",
      "198/198 [==============================] - 25s 129ms/step - loss: 0.0588 - accuracy: 0.9706 - val_loss: 0.0574 - val_accuracy: 0.9763\n",
      "\n",
      "Epoch 00060: val_loss did not improve from 0.05238\n",
      "Epoch 61/100\n",
      "198/198 [==============================] - 26s 131ms/step - loss: 0.0587 - accuracy: 0.9749 - val_loss: 0.0544 - val_accuracy: 0.9787\n",
      "\n",
      "Epoch 00061: val_loss did not improve from 0.05238\n",
      "Epoch 62/100\n",
      "198/198 [==============================] - 26s 129ms/step - loss: 0.0603 - accuracy: 0.9730 - val_loss: 0.0545 - val_accuracy: 0.9745\n",
      "\n",
      "Epoch 00062: val_loss did not improve from 0.05238\n",
      "Epoch 63/100\n",
      "198/198 [==============================] - 26s 131ms/step - loss: 0.0585 - accuracy: 0.9741 - val_loss: 0.0518 - val_accuracy: 0.9749\n",
      "\n",
      "Epoch 00063: val_loss improved from 0.05238 to 0.05178, saving model to ./weights/best_weight.hdf5\n",
      "Epoch 64/100\n",
      "198/198 [==============================] - 25s 129ms/step - loss: 0.0615 - accuracy: 0.9713 - val_loss: 0.0527 - val_accuracy: 0.9792\n",
      "\n",
      "Epoch 00064: val_loss did not improve from 0.05178\n",
      "Epoch 65/100\n",
      "198/198 [==============================] - 26s 130ms/step - loss: 0.0591 - accuracy: 0.9747 - val_loss: 0.0565 - val_accuracy: 0.9745\n",
      "\n",
      "Epoch 00065: val_loss did not improve from 0.05178\n",
      "Epoch 66/100\n",
      "198/198 [==============================] - 26s 130ms/step - loss: 0.0548 - accuracy: 0.9730 - val_loss: 0.0540 - val_accuracy: 0.9787\n",
      "\n",
      "Epoch 00066: val_loss did not improve from 0.05178\n",
      "Epoch 67/100\n",
      "198/198 [==============================] - 26s 129ms/step - loss: 0.0606 - accuracy: 0.9730 - val_loss: 0.0537 - val_accuracy: 0.9768\n",
      "\n",
      "Epoch 00067: val_loss did not improve from 0.05178\n",
      "Epoch 68/100\n",
      "198/198 [==============================] - 26s 131ms/step - loss: 0.0552 - accuracy: 0.9727 - val_loss: 0.0547 - val_accuracy: 0.9787\n",
      "\n",
      "Epoch 00068: val_loss did not improve from 0.05178\n",
      "Epoch 69/100\n",
      "198/198 [==============================] - 25s 129ms/step - loss: 0.0566 - accuracy: 0.9735 - val_loss: 0.0540 - val_accuracy: 0.9754\n",
      "\n",
      "Epoch 00069: val_loss did not improve from 0.05178\n",
      "Epoch 70/100\n",
      "198/198 [==============================] - 26s 131ms/step - loss: 0.0588 - accuracy: 0.9717 - val_loss: 0.0542 - val_accuracy: 0.9726\n",
      "\n",
      "Epoch 00070: val_loss did not improve from 0.05178\n",
      "Epoch 71/100\n",
      "198/198 [==============================] - 26s 129ms/step - loss: 0.0583 - accuracy: 0.9741 - val_loss: 0.0542 - val_accuracy: 0.9806\n",
      "\n",
      "Epoch 00071: val_loss did not improve from 0.05178\n",
      "Epoch 72/100\n",
      "198/198 [==============================] - 26s 130ms/step - loss: 0.0544 - accuracy: 0.9722 - val_loss: 0.0543 - val_accuracy: 0.9730\n",
      "\n",
      "Epoch 00072: val_loss did not improve from 0.05178\n",
      "Epoch 73/100\n",
      "198/198 [==============================] - 26s 129ms/step - loss: 0.0568 - accuracy: 0.9722 - val_loss: 0.0536 - val_accuracy: 0.9730\n",
      "\n",
      "Epoch 00073: val_loss did not improve from 0.05178\n",
      "Epoch 74/100\n",
      "198/198 [==============================] - 26s 129ms/step - loss: 0.0549 - accuracy: 0.9741 - val_loss: 0.0555 - val_accuracy: 0.9745\n",
      "\n",
      "Epoch 00074: val_loss did not improve from 0.05178\n",
      "Epoch 75/100\n",
      "198/198 [==============================] - 26s 131ms/step - loss: 0.0553 - accuracy: 0.9733 - val_loss: 0.0556 - val_accuracy: 0.9763\n",
      "\n",
      "Epoch 00075: val_loss did not improve from 0.05178\n",
      "Epoch 76/100\n",
      "198/198 [==============================] - 26s 129ms/step - loss: 0.0548 - accuracy: 0.9755 - val_loss: 0.0565 - val_accuracy: 0.9778\n",
      "\n",
      "Epoch 00076: val_loss did not improve from 0.05178\n",
      "Epoch 77/100\n"
     ]
    },
    {
     "name": "stdout",
     "output_type": "stream",
     "text": [
      "198/198 [==============================] - 26s 130ms/step - loss: 0.0545 - accuracy: 0.9717 - val_loss: 0.0570 - val_accuracy: 0.9768\n",
      "\n",
      "Epoch 00077: val_loss did not improve from 0.05178\n",
      "Epoch 78/100\n",
      "198/198 [==============================] - 26s 129ms/step - loss: 0.0532 - accuracy: 0.9738 - val_loss: 0.0567 - val_accuracy: 0.9773\n",
      "\n",
      "Epoch 00078: val_loss did not improve from 0.05178\n",
      "Epoch 79/100\n",
      "198/198 [==============================] - 26s 130ms/step - loss: 0.0574 - accuracy: 0.9741 - val_loss: 0.0534 - val_accuracy: 0.9759\n",
      "\n",
      "Epoch 00079: val_loss did not improve from 0.05178\n",
      "Epoch 80/100\n",
      "198/198 [==============================] - 26s 130ms/step - loss: 0.0572 - accuracy: 0.9736 - val_loss: 0.0552 - val_accuracy: 0.9735\n",
      "\n",
      "Epoch 00080: val_loss did not improve from 0.05178\n",
      "Epoch 81/100\n",
      "198/198 [==============================] - 26s 129ms/step - loss: 0.0530 - accuracy: 0.9741 - val_loss: 0.0552 - val_accuracy: 0.9754\n",
      "\n",
      "Epoch 00081: val_loss did not improve from 0.05178\n",
      "Epoch 82/100\n",
      "198/198 [==============================] - 26s 131ms/step - loss: 0.0550 - accuracy: 0.9749 - val_loss: 0.0557 - val_accuracy: 0.9749\n",
      "\n",
      "Epoch 00082: val_loss did not improve from 0.05178\n",
      "Epoch 83/100\n",
      "198/198 [==============================] - 25s 129ms/step - loss: 0.0531 - accuracy: 0.9759 - val_loss: 0.0547 - val_accuracy: 0.9778\n",
      "\n",
      "Epoch 00083: val_loss did not improve from 0.05178\n",
      "Epoch 84/100\n",
      "198/198 [==============================] - 26s 131ms/step - loss: 0.0497 - accuracy: 0.9765 - val_loss: 0.0561 - val_accuracy: 0.9749\n",
      "\n",
      "Epoch 00084: val_loss did not improve from 0.05178\n",
      "Epoch 85/100\n",
      "198/198 [==============================] - 26s 130ms/step - loss: 0.0514 - accuracy: 0.9744 - val_loss: 0.0559 - val_accuracy: 0.9763\n",
      "\n",
      "Epoch 00085: val_loss did not improve from 0.05178\n",
      "Epoch 86/100\n",
      "198/198 [==============================] - 26s 130ms/step - loss: 0.0460 - accuracy: 0.9785 - val_loss: 0.0532 - val_accuracy: 0.9778\n",
      "\n",
      "Epoch 00086: val_loss did not improve from 0.05178\n",
      "Epoch 87/100\n",
      "198/198 [==============================] - 26s 131ms/step - loss: 0.0503 - accuracy: 0.9752 - val_loss: 0.0577 - val_accuracy: 0.9759\n",
      "\n",
      "Epoch 00087: val_loss did not improve from 0.05178\n",
      "Epoch 88/100\n",
      "198/198 [==============================] - 26s 130ms/step - loss: 0.0526 - accuracy: 0.9762 - val_loss: 0.0575 - val_accuracy: 0.9754\n",
      "\n",
      "Epoch 00088: val_loss did not improve from 0.05178\n",
      "Epoch 89/100\n",
      "198/198 [==============================] - 26s 132ms/step - loss: 0.0517 - accuracy: 0.9752 - val_loss: 0.0548 - val_accuracy: 0.9787\n",
      "\n",
      "Epoch 00089: val_loss did not improve from 0.05178\n",
      "Epoch 90/100\n",
      "198/198 [==============================] - 26s 129ms/step - loss: 0.0532 - accuracy: 0.9738 - val_loss: 0.0556 - val_accuracy: 0.9773\n",
      "\n",
      "Epoch 00090: val_loss did not improve from 0.05178\n",
      "Epoch 91/100\n",
      "198/198 [==============================] - 26s 131ms/step - loss: 0.0480 - accuracy: 0.9773 - val_loss: 0.0566 - val_accuracy: 0.9763\n",
      "\n",
      "Epoch 00091: val_loss did not improve from 0.05178\n",
      "Epoch 92/100\n",
      "198/198 [==============================] - 26s 130ms/step - loss: 0.0511 - accuracy: 0.9743 - val_loss: 0.0586 - val_accuracy: 0.9768\n",
      "\n",
      "Epoch 00092: val_loss did not improve from 0.05178\n",
      "Epoch 93/100\n",
      "198/198 [==============================] - 26s 130ms/step - loss: 0.0474 - accuracy: 0.9760 - val_loss: 0.0564 - val_accuracy: 0.9749\n",
      "\n",
      "Epoch 00093: val_loss did not improve from 0.05178\n",
      "Epoch 94/100\n",
      "198/198 [==============================] - 26s 130ms/step - loss: 0.0497 - accuracy: 0.9771 - val_loss: 0.0556 - val_accuracy: 0.9763\n",
      "\n",
      "Epoch 00094: val_loss did not improve from 0.05178\n",
      "Epoch 95/100\n",
      "198/198 [==============================] - 26s 129ms/step - loss: 0.0508 - accuracy: 0.9752 - val_loss: 0.0566 - val_accuracy: 0.9740\n",
      "\n",
      "Epoch 00095: val_loss did not improve from 0.05178\n",
      "Epoch 96/100\n",
      "198/198 [==============================] - 26s 131ms/step - loss: 0.0491 - accuracy: 0.9755 - val_loss: 0.0560 - val_accuracy: 0.9759\n",
      "\n",
      "Epoch 00096: val_loss did not improve from 0.05178\n",
      "Epoch 97/100\n",
      "198/198 [==============================] - 26s 129ms/step - loss: 0.0481 - accuracy: 0.9752 - val_loss: 0.0566 - val_accuracy: 0.9768\n",
      "\n",
      "Epoch 00097: val_loss did not improve from 0.05178\n",
      "Epoch 98/100\n",
      "198/198 [==============================] - 26s 131ms/step - loss: 0.0475 - accuracy: 0.9771 - val_loss: 0.0551 - val_accuracy: 0.9773\n",
      "\n",
      "Epoch 00098: val_loss did not improve from 0.05178\n",
      "Epoch 99/100\n",
      "198/198 [==============================] - 26s 129ms/step - loss: 0.0492 - accuracy: 0.9770 - val_loss: 0.0535 - val_accuracy: 0.9768\n",
      "\n",
      "Epoch 00099: val_loss did not improve from 0.05178\n",
      "Epoch 100/100\n",
      "198/198 [==============================] - 26s 129ms/step - loss: 0.0477 - accuracy: 0.9760 - val_loss: 0.0586 - val_accuracy: 0.9778\n",
      "\n",
      "Epoch 00100: val_loss did not improve from 0.05178\n"
     ]
    }
   ],
   "source": [
    "H = model.fit_generator(data_gener.get_batch(), \n",
    "                    validation_data=(test_X, test_y), \n",
    "                    validation_steps=len(test_X_paths) // BATCH_SIZE, \n",
    "                    epochs=100, steps_per_epoch=len(train_X_paths) // BATCH_SIZE,\n",
    "                    verbose=1, callbacks=[checkpoint])"
   ]
  },
  {
   "cell_type": "code",
   "execution_count": 55,
   "metadata": {},
   "outputs": [
    {
     "name": "stdout",
     "output_type": "stream",
     "text": [
      "              precision    recall  f1-score   support\n",
      "\n",
      "           0       0.96      1.00      0.98        79\n",
      "           1       1.00      1.00      1.00       101\n",
      "           2       1.00      1.00      1.00        88\n",
      "           3       1.00      1.00      1.00        95\n",
      "           4       1.00      1.00      1.00        93\n",
      "           5       1.00      1.00      1.00        86\n",
      "           6       1.00      1.00      1.00        70\n",
      "           7       1.00      1.00      1.00        99\n",
      "           8       1.00      0.99      0.99        87\n",
      "           9       0.99      1.00      0.99        84\n",
      "           A       1.00      1.00      1.00        45\n",
      "           B       1.00      1.00      1.00        51\n",
      "           C       1.00      1.00      1.00        48\n",
      "           D       1.00      1.00      1.00        48\n",
      "           E       1.00      1.00      1.00        57\n",
      "           F       1.00      1.00      1.00        59\n",
      "           G       1.00      1.00      1.00        47\n",
      "           H       1.00      1.00      1.00        48\n",
      "           I       0.64      0.56      0.59        54\n",
      "           J       1.00      1.00      1.00        48\n",
      "           K       1.00      1.00      1.00        49\n",
      "           L       0.51      0.60      0.55        42\n",
      "           M       1.00      0.97      0.98        33\n",
      "           N       0.98      1.00      0.99        60\n",
      "           O       1.00      0.98      0.99        51\n",
      "           P       1.00      1.00      1.00        44\n",
      "           Q       1.00      1.00      1.00        49\n",
      "           R       1.00      1.00      1.00        48\n",
      "           S       1.00      1.00      1.00        37\n",
      "           T       1.00      1.00      1.00        35\n",
      "           U       1.00      0.98      0.99        46\n",
      "           V       0.98      0.98      0.98        45\n",
      "           W       1.00      0.98      0.99        45\n",
      "           X       1.00      1.00      1.00        46\n",
      "           Y       1.00      1.00      1.00        46\n",
      "           Z       1.00      1.00      1.00        51\n",
      "\n",
      "    accuracy                           0.98      2114\n",
      "   macro avg       0.97      0.97      0.97      2114\n",
      "weighted avg       0.98      0.98      0.98      2114\n",
      "\n"
     ]
    }
   ],
   "source": [
    "predictions = model.predict(test_X)\n",
    "\n",
    "print(classification_report(predictions.argmax(axis=1), test_y.argmax(axis=1), target_names=class_names))"
   ]
  },
  {
   "cell_type": "code",
   "execution_count": 58,
   "metadata": {},
   "outputs": [
    {
     "data": {
      "image/png": "[encoded data removed]",
      "text/plain": [
       "<Figure size 432x288 with 1 Axes>"
      ]
     },
     "metadata": {},
     "output_type": "display_data"
    }
   ],
   "source": [
    "plt.style.use(\"ggplot\")\n",
    "plt.figure()\n",
    "plt.plot(np.arange(0, 100), H.history[\"loss\"], label=\"Train Loss\")\n",
    "plt.plot(np.arange(0, 100), H.history[\"val_loss\"], label=\"Val Loss\")\n",
    "plt.plot(np.arange(0, 100), H.history[\"accuracy\"], label=\"Train Accuracy\")\n",
    "plt.plot(np.arange(0, 100), H.history[\"val_accuracy\"], label=\"Val accuracy\")\n",
    "plt.title(\"Plot Loss and Accuracy\")\n",
    "plt.xlabel(\"Epoch #\")\n",
    "plt.ylabel(\"Train/Loss\")\n",
    "plt.legend()\n",
    "plt.show()"
   ]
  },
  {
   "cell_type": "markdown",
   "metadata": {},
   "source": [
    "## Prediction"
   ]
  },
  {
   "cell_type": "code",
   "execution_count": 33,
   "metadata": {},
   "outputs": [],
   "source": [
    "from numpy.random import randint"
   ]
  },
  {
   "cell_type": "code",
   "execution_count": 34,
   "metadata": {},
   "outputs": [],
   "source": [
    "idx = randint(0, len(image_paths))"
   ]
  },
  {
   "cell_type": "code",
   "execution_count": 35,
   "metadata": {},
   "outputs": [
    {
     "data": {
      "text/plain": [
       "<matplotlib.image.AxesImage at 0x1447f4048>"
      ]
     },
     "execution_count": 35,
     "metadata": {},
     "output_type": "execute_result"
    },
    {
     "data": {
      "image/png": "[encoded data removed]",
      "text/plain": [
       "<Figure size 432x288 with 1 Axes>"
      ]
     },
     "metadata": {
      "needs_background": "light"
     },
     "output_type": "display_data"
    }
   ],
   "source": [
    "plt.imshow(cv2.imread(image_paths[idx]))"
   ]
  },
  {
   "cell_type": "code",
   "execution_count": 36,
   "metadata": {},
   "outputs": [],
   "source": [
    "image = data_gener.load_image([image_paths[idx]])"
   ]
  },
  {
   "cell_type": "code",
   "execution_count": 37,
   "metadata": {},
   "outputs": [
    {
     "data": {
      "text/plain": [
       "'S'"
      ]
     },
     "execution_count": 37,
     "metadata": {},
     "output_type": "execute_result"
    }
   ],
   "source": [
    "class_names[model.predict(image).argmax(axis=1)[0]]"
   ]
  },
  {
   "cell_type": "code",
   "execution_count": 38,
   "metadata": {},
   "outputs": [],
   "source": [
    "model.load_weights(\"best_weight.hdf5\")"
   ]
  },
  {
   "cell_type": "code",
   "execution_count": 39,
   "metadata": {},
   "outputs": [],
   "source": [
    "image_paths = os.listdir(TEST_DIR)"
   ]
  },
  {
   "cell_type": "code",
   "execution_count": 40,
   "metadata": {},
   "outputs": [],
   "source": [
    "from numpy.random import randint"
   ]
  },
  {
   "cell_type": "code",
   "execution_count": 74,
   "metadata": {},
   "outputs": [],
   "source": [
    "def image_prediction():\n",
    "    idx = randint(0, len(image_paths))\n",
    "    img_path = os.path.join(TEST_DIR, image_paths[idx])\n",
    "    image = cv2.imread(img_path)\n",
    "    plt.imshow(image)\n",
    "    gray = cv2.cvtColor(image, cv2.COLOR_BGR2GRAY)\n",
    "    thresh = cv2.threshold(gray, 0, 255, cv2.THRESH_BINARY_INV | cv2.THRESH_OTSU)[1]\n",
    "    cnts = cv2.findContours(thresh.copy(), cv2.RETR_EXTERNAL, cv2.CHAIN_APPROX_SIMPLE)\n",
    "    cnts = cnts[0]\n",
    "    cnts = sorted(cnts, key=cv2.contourArea, reverse=True)[:4]\n",
    "    \n",
    "    for c in cnts:\n",
    "        (x, y, w, h) = cv2.boundingRect(c)\n",
    "\n",
    "        if w > 40:\n",
    "            roi = gray[y-5:y+5+h, x-5:x + int(w/2)]\n",
    "            roi_2 = gray[y-5:y+5+h, x + int(w/2):x+5+int(w/2)]\n",
    "            roi = cv2.merge([roi]*3)\n",
    "            roi = data_gener.preprocessing_image(roi)\n",
    "            roi_2 = cv2.merge([roi_2]*3)\n",
    "            roi_2 = data_gener.preprocessing_image(roi_2)\n",
    "#             rois = np.array([roi, roi_2])\n",
    "        else:\n",
    "            cv2.rectangle(image, (x-2, y-2), (x+w+2, y+h+2), (0, 255, 0), 1)\n",
    "            roi = gray[y-5:y+5+h, x-5:x+5+w]\n",
    "            roi = cv2.merge([roi]*3)\n",
    "            roi = data_gener.preprocessing_image(roi)\n",
    "#             rois = np.array([roi])\n",
    "            prediction = model.predict(roi.reshape(1, 224, 224, 3))\n",
    "            text = le.classes_[prediction.argmax(axis=1)[0]]\n",
    "            cv2.putText(image, text, (x, y+h-2), cv2.FONT_HERSHEY_SIMPLEX, 0.6, (0, 255, 0), 1)\n",
    "\n",
    "#         for roi in rois:\n",
    "#             prediction = model.predict(roi.reshape(1, 224, 224, 3))\n",
    "#             print(le.classes_[prediction.argmax(axis=1)[0]])\n",
    "    plt.imshow(image)"
   ]
  },
  {
   "cell_type": "code",
   "execution_count": 95,
   "metadata": {},
   "outputs": [
    {
     "data": {
      "image/png": "[encoded data removed]",
      "text/plain": [
       "<Figure size 432x288 with 1 Axes>"
      ]
     },
     "metadata": {
      "needs_background": "light"
     },
     "output_type": "display_data"
    }
   ],
   "source": [
    "image_prediction()"
   ]
  },
  {
   "cell_type": "code",
   "execution_count": null,
   "metadata": {},
   "outputs": [],
   "source": []
  }
 ],
 "metadata": {
  "kernelspec": {
   "display_name": "Python 3",
   "language": "python",
   "name": "python3"
  },
  "language_info": {
   "codemirror_mode": {
    "name": "ipython",
    "version": 3
   },
   "file_extension": ".py",
   "mimetype": "text/x-python",
   "name": "python",
   "nbconvert_exporter": "python",
   "pygments_lexer": "ipython3",
   "version": "3.6.8"
  }
 },
 "nbformat": 4,
 "nbformat_minor": 4
}
