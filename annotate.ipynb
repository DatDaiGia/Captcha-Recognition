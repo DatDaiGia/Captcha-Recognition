{
 "cells": [
  {
   "cell_type": "code",
   "execution_count": 1,
   "metadata": {},
   "outputs": [],
   "source": [
    "import warnings\n",
    "warnings.filterwarnings(\"ignore\")\n",
    "\n",
    "import numpy as np\n",
    "import cv2\n",
    "import os\n",
    "import matplotlib.pyplot as plt\n",
    "%matplotlib inline"
   ]
  },
  {
   "cell_type": "code",
   "execution_count": 2,
   "metadata": {},
   "outputs": [],
   "source": [
    "import imutils"
   ]
  },
  {
   "cell_type": "markdown",
   "metadata": {},
   "source": [
    "## Constant Variable"
   ]
  },
  {
   "cell_type": "code",
   "execution_count": 3,
   "metadata": {},
   "outputs": [],
   "source": [
    "DATA_DIR = \"datasets/\"\n",
    "OUTPUT_DIR = \"output/\""
   ]
  },
  {
   "cell_type": "markdown",
   "metadata": {},
   "source": [
    "## Annotate"
   ]
  },
  {
   "cell_type": "code",
   "execution_count": 4,
   "metadata": {},
   "outputs": [],
   "source": [
    "def load_images(data_path):\n",
    "    image_paths = []\n",
    "    \n",
    "    for sub_fol in os.listdir(data_path):\n",
    "        if sub_fol == \".DS_Store\": continue\n",
    "        sub_fol_path = os.path.join(data_path, sub_fol)\n",
    "        if os.path.isfile(sub_fol_path): continue\n",
    "\n",
    "        for img in os.listdir(sub_fol_path):\n",
    "            if img == \".DS_Store\": continue\n",
    "            img_path = os.path.join(sub_fol_path, img)\n",
    "            image_paths.append(img_path)\n",
    "    \n",
    "    return np.array(image_paths)"
   ]
  },
  {
   "cell_type": "code",
   "execution_count": 5,
   "metadata": {},
   "outputs": [],
   "source": [
    "image_paths = load_images(DATA_DIR)\n",
    "counts = {}"
   ]
  },
  {
   "cell_type": "code",
   "execution_count": 8,
   "metadata": {},
   "outputs": [
    {
     "data": {
      "text/plain": [
       "<matplotlib.image.AxesImage at 0x124728a20>"
      ]
     },
     "execution_count": 8,
     "metadata": {},
     "output_type": "execute_result"
    },
    {
     "data": {
      "image/png": "[encoded data removed]",
      "text/plain": [
       "<Figure size 432x288 with 1 Axes>"
      ]
     },
     "metadata": {
      "needs_background": "light"
     },
     "output_type": "display_data"
    }
   ],
   "source": [
    "plt.imshow(cv2.imread(image_paths[2]))"
   ]
  },
  {
   "cell_type": "code",
   "execution_count": 10,
   "metadata": {},
   "outputs": [
    {
     "data": {
      "image/png": "[encoded data removed]",
      "text/plain": [
       "<Figure size 432x288 with 1 Axes>"
      ]
     },
     "metadata": {
      "needs_background": "light"
     },
     "output_type": "display_data"
    }
   ],
   "source": [
    "for img_path in image_paths:\n",
    "    try:\n",
    "        img = cv2.imread(img_path)\n",
    "        gray = cv2.cvtColor(img, cv2.COLOR_BGR2GRAY)\n",
    "        gray = cv2.copyMakeBorder(gray, 8, 8, 8, 8, cv2.BORDER_REPLICATE)\n",
    "        thresh = cv2.threshold(gray, 0, 255, cv2.THRESH_BINARY_INV | cv2.THRESH_OTSU)[1]\n",
    "#         plt.imshow(thresh, cmap=\"gray\")\n",
    "        cnts = cv2.findContours(thresh.copy(), cv2.RETR_EXTERNAL, cv2.CHAIN_APPROX_SIMPLE)\n",
    "        cnts = cnts[0]\n",
    "        cnts = sorted(cnts, key=cv2.contourArea, reverse=True)[:4]\n",
    "        \n",
    "        \n",
    "        for c in cnts:\n",
    "            (x, y, w, h) = cv2.boundingRect(c)\n",
    "            \n",
    "            if w > 40:\n",
    "                roi = gray[y-5:y+5+h, x-5:x + int(w/2)]\n",
    "                roi_2 = gray[y-5:y+5+h, x + int(w/2):x+5+int(w/2)]\n",
    "                rois = [roi, roi_2]\n",
    "            else:\n",
    "                roi = gray[y-5:y+5+h, x-5:x+5+w]\n",
    "                rois = [roi]\n",
    "            \n",
    "            for roi in rois:    \n",
    "                cv2.imshow(\"ROI\", imutils.resize(roi, width=28))\n",
    "                key = cv2.waitKey(0)\n",
    "\n",
    "                if key == ord(\"`\"):\n",
    "                    print(\"[INFO] ignoring character\")\n",
    "                    continue\n",
    "\n",
    "                key = chr(key).upper()\n",
    "                dir_path = os.path.join(OUTPUT_DIR, key)\n",
    "\n",
    "                if not os.path.exists(dir_path):\n",
    "                    os.mkdir(dir_path)\n",
    "\n",
    "                count = counts.get(key, 1)\n",
    "                p = os.path.join(dir_path, \"{}.png\".format(str(count).zfill(6)))\n",
    "                cv2.imwrite(p, roi)\n",
    "                counts[key] = count + 1\n",
    "\n",
    "    except KeyboardInterrupt:\n",
    "        print(\"[INFO] manually leaving script\")\n",
    "        break\n",
    "    except:\n",
    "        print(\"[INFO] skipping image...\")"
   ]
  },
  {
   "cell_type": "code",
   "execution_count": null,
   "metadata": {},
   "outputs": [],
   "source": []
  }
 ],
 "metadata": {
  "kernelspec": {
   "display_name": "Python 3",
   "language": "python",
   "name": "python3"
  },
  "language_info": {
   "codemirror_mode": {
    "name": "ipython",
    "version": 3
   },
   "file_extension": ".py",
   "mimetype": "text/x-python",
   "name": "python",
   "nbconvert_exporter": "python",
   "pygments_lexer": "ipython3",
   "version": "3.6.8"
  }
 },
 "nbformat": 4,
 "nbformat_minor": 2
}
